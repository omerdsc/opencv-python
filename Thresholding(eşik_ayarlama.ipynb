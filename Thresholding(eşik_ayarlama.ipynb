{
 "cells": [
  {
   "cell_type": "code",
   "execution_count": 1,
   "id": "d37fd397-feea-4cf8-97de-fb2da3f3beb4",
   "metadata": {},
   "outputs": [],
   "source": [
    "import cv2"
   ]
  },
  {
   "cell_type": "code",
   "execution_count": 14,
   "id": "b9e6673d-a753-4ade-9ce4-3810e9fe5414",
   "metadata": {},
   "outputs": [],
   "source": [
    "resim=cv2.imread(\"s_futbol1.jpg\",0)\n",
    "#SİMPLE_THRESHOLDİNG tek tip piksel üzerinde işlem yapıyoruz\n",
    "ret,thresh1=cv2.threshold(resim,127,255,cv2.THRESH_BINARY)#piksel değeri 127 nin altında olan sıfıra yuvarlansın üstünde olanlar 255 olsun\n",
    "ret,thresh2=cv2.threshold(resim,127,255,cv2.THRESH_BINARY_INV)\n",
    "ret,thresh3=cv2.threshold(resim,127,255,cv2.THRESH_TRUNC)\n",
    "ret,thresh4=cv2.threshold(resim,127,255,cv2.THRESH_TOZERO)\n",
    "ret,thresh5=cv2.threshold(resim,127,255,cv2.THRESH_TOZERO_INV)\n",
    "cv2.imshow(\"orjinal\",resim)\n",
    "cv2.imshow(\"thresh1\",thresh1)\n",
    "cv2.imshow(\"thresh2\",thresh2)\n",
    "cv2.imshow(\"thresh3\",thresh3)\n",
    "cv2.imshow(\"thresh4\",thresh4)\n",
    "cv2.imshow(\"thresh5\",thresh5)\n",
    "\n",
    "cv2.waitKey(0)\n",
    "cv2.destroyAllWindows()"
   ]
  },
  {
   "cell_type": "code",
   "execution_count": 64,
   "id": "fdd3ef05-b427-4c1f-a24e-28a2732c30d1",
   "metadata": {},
   "outputs": [],
   "source": [
    "import cv2\n",
    "#ADAPTİVE THRESHOLDİNG resmin etrafında bir pikselin eşiği alınıyor\n",
    "resim=cv2.imread(\"s_futbol1.jpg\",0)\n",
    "#SİMPLE_THRESHOLDİNG\n",
    "ret,thresh6=cv2.threshold(resim,160,255,cv2.THRESH_BINARY) # 160 altında sıfıra dönüştür üstünde ise 255 e dönüştür\n",
    "#ADAPTİVE THRESHOLDİNG\n",
    "thresh7=cv2.adaptiveThreshold(resim,255,cv2.ADAPTIVE_THRESH_MEAN_C,\\\n",
    "                             cv2.THRESH_BINARY,11,2)\n",
    "thresh8=cv2.adaptiveThreshold(resim,255,cv2.ADAPTIVE_THRESH_GAUSSIAN_C,\\\n",
    "                             cv2.THRESH_BINARY,11,2)\n",
    "\n",
    "cv2.imshow(\"orjinal\",resim)\n",
    "cv2.imshow(\"simple thresholding\",thresh6)\n",
    "cv2.imshow(\"thresh7\",thresh7)\n",
    "cv2.imshow(\"thresh8\",thresh8)\n",
    "cv2.waitKey(0)\n",
    "cv2.destroyAllWindows()"
   ]
  },
  {
   "cell_type": "code",
   "execution_count": 7,
   "id": "b2255a8d-eff6-4304-9ba0-691e69ebcb34",
   "metadata": {},
   "outputs": [],
   "source": [
    "import cv2\n",
    "#OTSU THRESHOLDİNG DEĞER SEÇİLMEZ KENDİSİ ATAR\n",
    "resim=cv2.imread(\"s_ev1.jpg\",0)\n",
    "#SİMPLE_THRESHOLDİNG\n",
    "ret,thresh6=cv2.threshold(resim,160,255,cv2.THRESH_BINARY) # 160 altında sıfıra dönüştür üstünde ise 255 e dönüştür\n",
    "#OTSU THRESHOLDİNG\n",
    "ret,thresh9=cv2.threshold(resim,0,255,cv2.THRESH_BINARY+cv2.THRESH_OTSU)\n",
    "\n",
    "cv2.imshow(\"orjinal\",resim)\n",
    "cv2.imshow(\"simple thresholding\",thresh6)\n",
    "cv2.imshow(\"thresh9\",thresh9)\n",
    "\n",
    "\n",
    "cv2.waitKey(0)\n",
    "cv2.destroyAllWindows()"
   ]
  },
  {
   "cell_type": "code",
   "execution_count": null,
   "id": "efa4ba5b-d469-40dd-be01-ec07e6b7f0e9",
   "metadata": {},
   "outputs": [],
   "source": []
  }
 ],
 "metadata": {
  "kernelspec": {
   "display_name": "Python 3 (ipykernel)",
   "language": "python",
   "name": "python3"
  },
  "language_info": {
   "codemirror_mode": {
    "name": "ipython",
    "version": 3
   },
   "file_extension": ".py",
   "mimetype": "text/x-python",
   "name": "python",
   "nbconvert_exporter": "python",
   "pygments_lexer": "ipython3",
   "version": "3.12.4"
  }
 },
 "nbformat": 4,
 "nbformat_minor": 5
}
