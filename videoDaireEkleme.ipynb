{
 "cells": [
  {
   "cell_type": "code",
   "execution_count": 61,
   "id": "b5e4c133-8000-4b93-ac2f-f8471cfdd00d",
   "metadata": {},
   "outputs": [],
   "source": [
    "import numpy as np\n",
    "import cv2"
   ]
  },
  {
   "cell_type": "code",
   "execution_count": 67,
   "id": "faeab0a0-39ad-48c0-9cf8-fe65d50360dd",
   "metadata": {},
   "outputs": [],
   "source": [
    "kamera=cv2.VideoCapture(0)\n",
    "\n",
    "\n",
    "while True:\n",
    "    ret,goruntu=kamera.read()\n",
    "\n",
    "    cv2.rectangle(goruntu,(100,100),(200,200),(25,36,98),2)\n",
    "    cv2.line(goruntu,(0,0),(100,100),(255,0,0),2)\n",
    "    cv2.circle(goruntu,(150,150),50,(15,35,21),2)\n",
    "    cv2.putText(goruntu,\"omer\",(220,220),cv2.FONT_HERSHEY_DUPLEX,2,(200,0,0),2)\n",
    "\n",
    "    cv2.imshow(\"omer\",goruntu)\n",
    "    \n",
    "    if cv2.waitKey(625) & 0xFF== ord(\"q\"):\n",
    "        break\n",
    "\n",
    "kamera.release()\n",
    "\n",
    "cv2.destroyAllWindows()"
   ]
  },
  {
   "cell_type": "code",
   "execution_count": null,
   "id": "b320a508-43a5-4524-a281-eb8641040528",
   "metadata": {},
   "outputs": [],
   "source": []
  },
  {
   "cell_type": "code",
   "execution_count": null,
   "id": "5b253049-a247-4dfe-ba5d-6586cf6a48b3",
   "metadata": {},
   "outputs": [],
   "source": []
  }
 ],
 "metadata": {
  "kernelspec": {
   "display_name": "Python 3 (ipykernel)",
   "language": "python",
   "name": "python3"
  },
  "language_info": {
   "codemirror_mode": {
    "name": "ipython",
    "version": 3
   },
   "file_extension": ".py",
   "mimetype": "text/x-python",
   "name": "python",
   "nbconvert_exporter": "python",
   "pygments_lexer": "ipython3",
   "version": "3.12.4"
  }
 },
 "nbformat": 4,
 "nbformat_minor": 5
}
