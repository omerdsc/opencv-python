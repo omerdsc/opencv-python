{
 "cells": [
  {
   "cell_type": "code",
   "execution_count": 2,
   "id": "bd2be611-d15a-4616-9958-94c0d3a64de3",
   "metadata": {},
   "outputs": [],
   "source": [
    "import numpy as np\n",
    "import cv2"
   ]
  },
  {
   "cell_type": "code",
   "execution_count": 5,
   "id": "31747c94-ad0d-4dc8-b496-26a8e5cc7ba3",
   "metadata": {},
   "outputs": [
    {
     "name": "stdout",
     "output_type": "stream",
     "text": [
      "[49 48 56]\n",
      "[ 56 134  97]\n",
      "[105 182 153]\n"
     ]
    }
   ],
   "source": [
    "resim1=cv2.imread(\"s_ev1.jpg\")\n",
    "resim2=cv2.imread(\"s_futbol1.jpg\")\n",
    "\n",
    "resim1=resim1[0:200,0:200]\n",
    "resim2=resim2[0:200,0:200]\n",
    "\n",
    "\n",
    "print(resim1[100,190])\n",
    "print(resim2[150,190])\n",
    "\n",
    "cv2.imshow(\"ev\",resim1)\n",
    "cv2.imshow(\"saha\",resim2)\n",
    "\n",
    "toplam=cv2.add(resim1,resim2)\n",
    "agirlikliToplam=cv2.addWeighted(resim1,0.3,resim2,0.7,0)\n",
    "cv2.imshow(\"toplanmış\",toplam)\n",
    "cv2.imshow(\"toplanmış2\",agirlikliToplam)\n",
    "\n",
    "\n",
    "print(resim1[100,190]+resim2[150,190])\n",
    "\n",
    "cv2.waitKey(0)\n",
    "cv2.destroyAllWindows()"
   ]
  },
  {
   "cell_type": "code",
   "execution_count": null,
   "id": "92713f4e-67e5-4ed7-a8a4-d184e4ca92c4",
   "metadata": {},
   "outputs": [],
   "source": []
  },
  {
   "cell_type": "code",
   "execution_count": null,
   "id": "2c2c8e1f-8744-4e01-bc73-0fb54c71b143",
   "metadata": {},
   "outputs": [],
   "source": []
  }
 ],
 "metadata": {
  "kernelspec": {
   "display_name": "Python 3 (ipykernel)",
   "language": "python",
   "name": "python3"
  },
  "language_info": {
   "codemirror_mode": {
    "name": "ipython",
    "version": 3
   },
   "file_extension": ".py",
   "mimetype": "text/x-python",
   "name": "python",
   "nbconvert_exporter": "python",
   "pygments_lexer": "ipython3",
   "version": "3.12.4"
  }
 },
 "nbformat": 4,
 "nbformat_minor": 5
}
