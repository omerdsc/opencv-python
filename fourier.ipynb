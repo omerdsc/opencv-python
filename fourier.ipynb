{
 "cells": [
  {
   "cell_type": "code",
   "execution_count": 2,
   "id": "0cfcb64a-c7ec-439a-a4ca-f9f02c671e25",
   "metadata": {},
   "outputs": [],
   "source": [
    "import cv2\n",
    "import numpy as np"
   ]
  },
  {
   "cell_type": "code",
   "execution_count": 4,
   "id": "3b3f9e04-0282-43f7-acd9-fcf9291ff790",
   "metadata": {},
   "outputs": [],
   "source": [
    "orj_resim=cv2.imread(\"s_cameraman.png\",0)\n",
    "\n",
    "f_resim=np.fft.fft2(orj_resim)\n",
    "\n",
    "f_resim=np.fft.fftshift(f_resim)\n",
    "\n",
    "g_resim=np.abs(f_resim)\n",
    "g_resim=g_resim/np.max(g_resim)*255"
   ]
  },
  {
   "cell_type": "code",
   "execution_count": 6,
   "id": "1197275d-4cb9-431a-8c73-8a5ad17364ab",
   "metadata": {},
   "outputs": [],
   "source": [
    "cv2.imshow(\"resim\",orj_resim)\n",
    "cv2.imshow(\"resim1\",g_resim)\n",
    "\n",
    "cv2.waitKey(0)\n",
    "cv2.destroyAllWindows()"
   ]
  },
  {
   "cell_type": "code",
   "execution_count": 68,
   "id": "e6bab05e-270f-4e28-a8ca-b3f6c8bd5f38",
   "metadata": {},
   "outputs": [],
   "source": [
    "y_resim=np.fft.ifftshift(f_resim)\n",
    "y_resim=np.fft.ifft2(y_resim)\n",
    "y_resim=np.abs(y_resim)\n",
    "y_resim=y_resim/np.max(y_resim)*255\n",
    "cv2.imshow(\"resim3\",y_resim)\n",
    "cv2.waitKey(0)\n",
    "cv2.destroyAllWindows()"
   ]
  },
  {
   "cell_type": "code",
   "execution_count": 77,
   "id": "e16bc3ae-8b71-4912-bcfc-c7c1f2be32ca",
   "metadata": {},
   "outputs": [],
   "source": [
    "orj_resim=cv2.imread(\"s_cameraman.png\",0)\n",
    "\n",
    "f_resim=np.fft.fft2(orj_resim)\n",
    "f_resim=np.fft.fftshift(f_resim)\n",
    "m,n=f_resim.shape\n",
    "f_resim[m//2,n//2]=0\n",
    "\n",
    "g_resim=np.abs(f_resim)\n",
    "g_resim=g_resim/np.max(g_resim)*255\n",
    "\n",
    "y_resim=np.fft.ifftshift(f_resim)\n",
    "y_resim=np.fft.ifft2(y_resim)\n",
    "y_resim=np.abs(y_resim)\n",
    "y_resim=y_resim/np.max(y_resim)*255\n",
    "\n",
    "cv2.imshow(\"resim3\",y_resim)\n",
    "cv2.imshow(\"resim\",orj_resim)\n",
    "cv2.imshow(\"resim1\",g_resim)\n",
    "\n",
    "cv2.waitKey(0)\n",
    "cv2.destroyAllWindows()"
   ]
  },
  {
   "cell_type": "code",
   "execution_count": null,
   "id": "eee38e32-4a06-4bc0-9eed-6a455961870e",
   "metadata": {},
   "outputs": [],
   "source": []
  }
 ],
 "metadata": {
  "kernelspec": {
   "display_name": "Python 3 (ipykernel)",
   "language": "python",
   "name": "python3"
  },
  "language_info": {
   "codemirror_mode": {
    "name": "ipython",
    "version": 3
   },
   "file_extension": ".py",
   "mimetype": "text/x-python",
   "name": "python",
   "nbconvert_exporter": "python",
   "pygments_lexer": "ipython3",
   "version": "3.12.4"
  }
 },
 "nbformat": 4,
 "nbformat_minor": 5
}
