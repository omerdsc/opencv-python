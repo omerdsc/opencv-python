{
 "cells": [
  {
   "cell_type": "code",
   "execution_count": 15,
   "id": "4105a18a-0a71-4f71-88c9-ab8424c41f23",
   "metadata": {},
   "outputs": [],
   "source": [
    "import cv2\n",
    "import numpy as np"
   ]
  },
  {
   "cell_type": "code",
   "execution_count": 55,
   "id": "d0c3870c-6926-405e-8903-3e05d9a1c924",
   "metadata": {},
   "outputs": [
    {
     "name": "stdout",
     "output_type": "stream",
     "text": [
      "orjinal 245 400 3\n",
      "gri (245, 400)\n"
     ]
    }
   ],
   "source": [
    "resim=cv2.imread(\"s_ev1.jpg\")\n",
    "# griResim=cv2.imread(\"s_ev1.jpg\",0)\n",
    "griResim=cv2.cvtColor(resim, cv2.COLOR_BGR2GRAY)\n",
    "\n",
    "yükseklik,genişlik,kanalSayısı=resim.shape\n",
    "\n",
    "print(\"orjinal\",yükseklik,genişlik,kanalSayısı)\n",
    "print(\"gri\",griResim.shape)\n",
    "cv2.imshow(\" orjinal\",resim)\n",
    "cv2.imshow(\" gri \",griResim)\n",
    "\n",
    "cv2.waitKey(0)\n",
    "cv2.destroyAllWindows()"
   ]
  },
  {
   "cell_type": "code",
   "execution_count": null,
   "id": "99ebd30f-ce9c-49c7-90c5-39073d79f468",
   "metadata": {},
   "outputs": [],
   "source": []
  }
 ],
 "metadata": {
  "kernelspec": {
   "display_name": "Python 3 (ipykernel)",
   "language": "python",
   "name": "python3"
  },
  "language_info": {
   "codemirror_mode": {
    "name": "ipython",
    "version": 3
   },
   "file_extension": ".py",
   "mimetype": "text/x-python",
   "name": "python",
   "nbconvert_exporter": "python",
   "pygments_lexer": "ipython3",
   "version": "3.12.4"
  }
 },
 "nbformat": 4,
 "nbformat_minor": 5
}
