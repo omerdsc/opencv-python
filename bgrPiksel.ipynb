{
 "cells": [
  {
   "cell_type": "code",
   "execution_count": 1,
   "id": "9f670c28-55d5-4f52-ba38-17f96f289abe",
   "metadata": {},
   "outputs": [],
   "source": [
    "import cv2\n",
    "import numpy as np"
   ]
  },
  {
   "cell_type": "code",
   "execution_count": 2,
   "id": "d7255006-2d38-4caa-8c9d-eed034bc27d6",
   "metadata": {},
   "outputs": [
    {
     "name": "stdout",
     "output_type": "stream",
     "text": [
      "[ 88 106 133]\n",
      "resmin boyutu 294000\n",
      "rsmin özellikleri (245, 400, 3)\n",
      "resmi tipi uint8\n"
     ]
    }
   ],
   "source": [
    "resim=cv2.imread(\"s_ev1.jpg\")\n",
    "cv2.imshow(\"ev\",resim)\n",
    "\n",
    "print(resim[(230,80)]) #230 piksel aşağı 80 piksel sağa\n",
    "print(f\"resmin boyutu {resim.size}\")\n",
    "print(f\"rsmin özellikleri {resim.shape}\")\n",
    "print(f\"resmi tipi {resim.dtype}\")\n",
    "\n",
    "cv2.waitKey(0)\n",
    "cv2.destroyAllWindows()"
   ]
  },
  {
   "cell_type": "code",
   "execution_count": 1,
   "id": "441326ee-c350-44b7-b481-19786fae756b",
   "metadata": {},
   "outputs": [],
   "source": [
    "import cv2 \n",
    "import numpy as np"
   ]
  },
  {
   "cell_type": "code",
   "execution_count": 2,
   "id": "3cafe110-6559-444f-baa7-ed298f28d7c7",
   "metadata": {},
   "outputs": [],
   "source": [
    "resim=cv2.imread(\"s_ev1.jpg\")\n",
    "\n",
    "resim[50,30]=[255,255,255]\n",
    "\n",
    "for i in range(100):\n",
    "    resim[i,i]=[255,255,255]\n",
    "\n",
    "cv2.imshow(\"ec\",resim)\n",
    "cv2.waitKey(0)\n",
    "cv2.destroyAllWindows()"
   ]
  },
  {
   "cell_type": "code",
   "execution_count": null,
   "id": "e1953ee8-f1ac-474d-a85b-9b8469a8bf14",
   "metadata": {},
   "outputs": [],
   "source": []
  }
 ],
 "metadata": {
  "kernelspec": {
   "display_name": "Python 3 (ipykernel)",
   "language": "python",
   "name": "python3"
  },
  "language_info": {
   "codemirror_mode": {
    "name": "ipython",
    "version": 3
   },
   "file_extension": ".py",
   "mimetype": "text/x-python",
   "name": "python",
   "nbconvert_exporter": "python",
   "pygments_lexer": "ipython3",
   "version": "3.12.4"
  }
 },
 "nbformat": 4,
 "nbformat_minor": 5
}
