{
 "cells": [
  {
   "cell_type": "code",
   "execution_count": 1,
   "id": "75b69f33-1b76-45f3-b090-ea0aced8b5d7",
   "metadata": {},
   "outputs": [],
   "source": [
    "import cv2\n",
    "import numpy as np"
   ]
  },
  {
   "cell_type": "code",
   "execution_count": 5,
   "id": "f65d4fcb-b328-4882-8c33-353fa3e2f88f",
   "metadata": {},
   "outputs": [],
   "source": [
    "resim=cv2.imread(\"s_futbol1.jpg\")\n",
    "\n",
    "cv2.rectangle(resim,(150,100),(200,150),[0,0,255],2)\n",
    "#cv2.rectangle(resim,solAlt,sağÜst,çerçeveRengi,kalınlık(0-9))\n",
    "cv2.imshow(\" \",resim)\n",
    "\n",
    "cv2.waitKey(0)\n",
    "cv2.destroyAllWindows()"
   ]
  },
  {
   "cell_type": "code",
   "execution_count": null,
   "id": "dd138fc8-7de2-49a3-9508-3294fc285a21",
   "metadata": {},
   "outputs": [],
   "source": []
  },
  {
   "cell_type": "code",
   "execution_count": null,
   "id": "b9bf95d4-77ed-494e-83a2-1687a85bf9eb",
   "metadata": {},
   "outputs": [],
   "source": []
  }
 ],
 "metadata": {
  "kernelspec": {
   "display_name": "Python 3 (ipykernel)",
   "language": "python",
   "name": "python3"
  },
  "language_info": {
   "codemirror_mode": {
    "name": "ipython",
    "version": 3
   },
   "file_extension": ".py",
   "mimetype": "text/x-python",
   "name": "python",
   "nbconvert_exporter": "python",
   "pygments_lexer": "ipython3",
   "version": "3.12.4"
  }
 },
 "nbformat": 4,
 "nbformat_minor": 5
}
