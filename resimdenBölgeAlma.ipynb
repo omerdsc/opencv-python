{
 "cells": [
  {
   "cell_type": "code",
   "execution_count": 1,
   "id": "1e77fa5f-d7ea-4134-b5dd-c122226c8862",
   "metadata": {},
   "outputs": [],
   "source": [
    "import cv2\n",
    "import numpy as np"
   ]
  },
  {
   "cell_type": "code",
   "execution_count": 2,
   "id": "b03d99e3-19d5-4c83-923f-575e87f01156",
   "metadata": {},
   "outputs": [
    {
     "name": "stdout",
     "output_type": "stream",
     "text": [
      "(245, 400, 3)\n"
     ]
    }
   ],
   "source": [
    "resim=cv2.imread(\"s_ev1.jpg\")\n",
    "\n",
    "resim2=resim[0:240,0:300]\n",
    "\n",
    "cv2.imshow(\" \",resim)\n",
    "cv2.waitKey(0)\n",
    "\n",
    "cv2.imshow(\" \",resim2)\n",
    "\n",
    "\n",
    "cv2.waitKey(0)\n",
    "cv2.destroyAllWindows()\n",
    "print(resim.shape)"
   ]
  },
  {
   "cell_type": "code",
   "execution_count": 7,
   "id": "548a4a6c-9a77-42e1-9af5-ef12ded53af3",
   "metadata": {},
   "outputs": [],
   "source": [
    "resim=cv2.imread(\"s_ev1.jpg\")\n",
    "\n",
    "resim2=resim[50:150,200:300]\n",
    "\n",
    "resim[0:100,0:100]=resim2 #parçasını aldığm resmi farklı bir konuma yapıştırdım\n",
    "\n",
    "resim[:,:,2]=100\n",
    "\n",
    "cv2.imshow(\" \",resim)\n",
    "cv2.waitKey(0)\n",
    "\n",
    "cv2.destroyAllWindows()"
   ]
  },
  {
   "cell_type": "code",
   "execution_count": null,
   "id": "1cc0bfa0-5ebe-4b1b-863f-9ee370891570",
   "metadata": {},
   "outputs": [],
   "source": []
  },
  {
   "cell_type": "code",
   "execution_count": null,
   "id": "3fe72215-b46e-4389-8d54-b8270ccbdd0d",
   "metadata": {},
   "outputs": [],
   "source": []
  }
 ],
 "metadata": {
  "kernelspec": {
   "display_name": "Python 3 (ipykernel)",
   "language": "python",
   "name": "python3"
  },
  "language_info": {
   "codemirror_mode": {
    "name": "ipython",
    "version": 3
   },
   "file_extension": ".py",
   "mimetype": "text/x-python",
   "name": "python",
   "nbconvert_exporter": "python",
   "pygments_lexer": "ipython3",
   "version": "3.12.4"
  }
 },
 "nbformat": 4,
 "nbformat_minor": 5
}
