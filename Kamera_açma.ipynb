{
 "cells": [
  {
   "cell_type": "code",
   "execution_count": 9,
   "id": "63c5cbe3-c8ea-429e-b399-9c6feba3183e",
   "metadata": {},
   "outputs": [],
   "source": [
    "import cv2\n",
    "import numpy as np"
   ]
  },
  {
   "cell_type": "code",
   "execution_count": null,
   "id": "d0cfac68-13da-498c-880e-506c3e0c1dc5",
   "metadata": {},
   "outputs": [],
   "source": [
    "kamera=cv2.VideoCapture(0) #o kendi bilgisayarımın kamerasını görüntü olarak açar\n",
    "                           #usb de tanımlı kamerayı alır\n",
    "                           #video tanımlanmıştır videodaki kamerayı kullanır\n",
    "\n",
    "while True:\n",
    "    ret,goruntu=kamera.read()\n",
    "\n",
    "    cv2.imshow(\"ozengineer\",goruntu)\n",
    "\n",
    "    if cv2.waitKey(30) and 0xFF == ('q'):\n",
    "        break\n",
    "\n",
    "kamera.release() #kamerayı serbest bırakıyor\n",
    "cv2.destroyAllWindows()"
   ]
  },
  {
   "cell_type": "code",
   "execution_count": null,
   "id": "156047c7-5cd4-4972-bc66-70fc03d637ca",
   "metadata": {},
   "outputs": [],
   "source": []
  },
  {
   "cell_type": "code",
   "execution_count": null,
   "id": "5b7c2dc4-215d-4dc2-b6bf-1f2039a408d1",
   "metadata": {},
   "outputs": [],
   "source": []
  },
  {
   "cell_type": "code",
   "execution_count": null,
   "id": "ec991602-236a-4490-896e-c4c4ffa4d7f8",
   "metadata": {},
   "outputs": [],
   "source": []
  }
 ],
 "metadata": {
  "kernelspec": {
   "display_name": "Python 3 (ipykernel)",
   "language": "python",
   "name": "python3"
  },
  "language_info": {
   "codemirror_mode": {
    "name": "ipython",
    "version": 3
   },
   "file_extension": ".py",
   "mimetype": "text/x-python",
   "name": "python",
   "nbconvert_exporter": "python",
   "pygments_lexer": "ipython3",
   "version": "3.12.4"
  }
 },
 "nbformat": 4,
 "nbformat_minor": 5
}
