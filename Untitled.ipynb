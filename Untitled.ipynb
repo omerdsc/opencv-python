{
 "cells": [
  {
   "cell_type": "code",
   "execution_count": 5,
   "id": "13cf511a-07cf-480c-b3a3-0de505302aa2",
   "metadata": {},
   "outputs": [],
   "source": [
    "import cv2\n",
    "\n",
    "resim = cv2.imread('s_futbol1.jpg')\n",
    "\n",
    "\n",
    "\n",
    "# R , G , B --> Gri\n",
    "# gri = (R + G + B)/3\n",
    "# gri = 0.30*R + 0.59*G + 0.11*B \n",
    "\n",
    "\n",
    "gri_resim = cv2.cvtColor(resim, cv2.COLOR_BGR2GRAY)\n",
    "\n",
    "deger = resim[200:250,250:300]\n",
    "\n",
    "\n",
    "print(deger)\n",
    "\n",
    "renkli2 = cv2.cvtColor(gri_resim, cv2.COLOR_GRAY2BGR)\n",
    "\n",
    "print(f'BGR karşılığı : {resim[100,100]}')\n",
    "print(f'Gri karşılığı : {gri_resim[100,100]}')\n",
    "print(f'Yalancı BGR   : {renkli2[100,100]}')\n",
    "\n",
    "\n",
    "gri_resim[100:150,120:190]=0\n",
    "\n",
    "cv2.imshow('Goruntu',gri_resim)\n",
    "\n",
    "cv2.waitKey()\n",
    "cv2.destroyAllWindows()"
   ]
  },
  {
   "cell_type": "code",
   "execution_count": 25,
   "id": "2b8e247f-d9c9-4e70-b509-1687564dee04",
   "metadata": {},
   "outputs": [],
   "source": [
    "import cv2\n",
    "\n",
    "resim = cv2.imread('s_futbol1.jpg')\n",
    "\n",
    "resim2 = cv2.bitwise_not(resim)\n",
    "\n",
    "cv2.imshow(\"sonucc\",resim)\n",
    "cv2.imshow('sonuc',resim2)\n",
    "\n",
    "cv2.waitKey()\n",
    "cv2.destroyAllWindows()"
   ]
  },
  {
   "cell_type": "code",
   "execution_count": 29,
   "id": "4138da50-5182-43f6-b6b4-6d8b2f0e2a33",
   "metadata": {},
   "outputs": [],
   "source": [
    "import cv2\n",
    "import numpy as np\n",
    "\n",
    "resim1=np.zeros((500,500),'uint8')\n",
    "resim1[150:250,200:400]=255\n",
    "\n",
    "resim2=np.zeros((500,500),'uint8')\n",
    "resim2[200:350,300:450]=255\n",
    "\n",
    "resim3=cv2.bitwise_not(resim1)\n",
    "\n",
    "cv2.imshow('resim1',resim1)\n",
    "cv2.imshow('resim2',resim2)\n",
    "cv2.imshow('resim3',resim3)\n",
    "cv2.waitKey()\n",
    "cv2.destroyAllWindows()\n",
    "\n",
    "\n",
    "# 100 --> 01100100\n",
    "# 200 --> 11001000\n",
    "# 255 --> 11101100\n",
    "\n",
    "# sonuc-> 01000000 ->64"
   ]
  },
  {
   "cell_type": "code",
   "execution_count": null,
   "id": "3bbd14ee-77d0-442c-93ff-a347cc55935f",
   "metadata": {},
   "outputs": [],
   "source": []
  },
  {
   "cell_type": "code",
   "execution_count": null,
   "id": "29782f88-fe19-48b5-8e70-87c84e6123c2",
   "metadata": {},
   "outputs": [],
   "source": []
  }
 ],
 "metadata": {
  "kernelspec": {
   "display_name": "Python 3 (ipykernel)",
   "language": "python",
   "name": "python3"
  },
  "language_info": {
   "codemirror_mode": {
    "name": "ipython",
    "version": 3
   },
   "file_extension": ".py",
   "mimetype": "text/x-python",
   "name": "python",
   "nbconvert_exporter": "python",
   "pygments_lexer": "ipython3",
   "version": "3.12.4"
  }
 },
 "nbformat": 4,
 "nbformat_minor": 5
}
