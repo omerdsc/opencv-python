{
 "cells": [
  {
   "cell_type": "code",
   "execution_count": 16,
   "id": "bad99c6d-9f16-417d-b37b-f0f30d43ef05",
   "metadata": {},
   "outputs": [],
   "source": [
    "import cv2\n",
    "import numpy as np"
   ]
  },
  {
   "cell_type": "code",
   "execution_count": 42,
   "id": "5d96b426-1574-4957-968c-3c5769fc5cf8",
   "metadata": {},
   "outputs": [],
   "source": [
    "resim=np.zeros((300,300,3),dtype=\"uint8\")\n",
    "\n",
    "cv2.line(resim,(60,60),(100,100),(0,0,255),3)#çizgi oluşturma(resim,nereden başlasın,nereden bitsin,(bgr kodu),kalınlık)\n",
    "cv2.circle(resim,(150,150),25,(0,255,0),2)#circle(rsim,merkezi,yarıçapı,renk,kalınlık)\n",
    "cv2.putText(resim,\"omer\",(100,100),cv2.FONT_HERSHEY_COMPLEX,2,(255,0,0),1)#metin yazma (resim,metin,konum,font,yazı büyüklüğü,renk,kalınlık)\n",
    "\n",
    "cv2.imshow(\"deneme\",resim)\n",
    "cv2.waitKey(0)\n",
    "cv2.destroyAllWindows()"
   ]
  },
  {
   "cell_type": "code",
   "execution_count": null,
   "id": "6a7ca672-ada7-4dc7-873b-691b45bca07d",
   "metadata": {},
   "outputs": [],
   "source": []
  }
 ],
 "metadata": {
  "kernelspec": {
   "display_name": "Python 3 (ipykernel)",
   "language": "python",
   "name": "python3"
  },
  "language_info": {
   "codemirror_mode": {
    "name": "ipython",
    "version": 3
   },
   "file_extension": ".py",
   "mimetype": "text/x-python",
   "name": "python",
   "nbconvert_exporter": "python",
   "pygments_lexer": "ipython3",
   "version": "3.12.4"
  }
 },
 "nbformat": 4,
 "nbformat_minor": 5
}
