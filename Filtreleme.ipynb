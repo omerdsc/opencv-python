{
 "cells": [
  {
   "cell_type": "code",
   "execution_count": 17,
   "id": "f5e1b665-624e-4e84-86a1-dc48129c6b62",
   "metadata": {},
   "outputs": [],
   "source": [
    "import cv2\n",
    "import numpy as np"
   ]
  },
  {
   "cell_type": "code",
   "execution_count": 47,
   "id": "4313ea50-0ec9-4779-86ac-756fa82505c4",
   "metadata": {},
   "outputs": [],
   "source": [
    "resim=cv2.imread(\"halftone.png\")\n",
    "#mean fılter hepsinin ortalamasını alır\n",
    "meanFilter=cv2.blur(resim,(3,3))\n",
    "meanFilter2=cv2.blur(resim,(5,5))\n",
    "meanFilter3=cv2.blur(resim,(7,7))\n",
    "# medianfilter #ortadaki değeri alır\n",
    "medianFilter=cv2.medianBlur(resim,3)\n",
    "medianFilter2=cv2.medianBlur(resim,5)\n",
    "#gauss\n",
    "gauss=cv2.GaussianBlur(resim,(3,3),0)\n",
    "gauss2=cv2.GaussianBlur(resim,(5,5),0)\n",
    "gauss3=cv2.GaussianBlur(resim,(7,7),0)\n",
    "\n",
    "cv2.imshow(\"orjinal\",resim)\n",
    "cv2.imshow(\"meanFilter\",meanFilter)\n",
    "cv2.imshow(\"meanFilter2\",meanFilter2)\n",
    "cv2.imshow(\"meanFilter3\",meanFilter3)\n",
    "cv2.imshow(\"medianFilter\",medianFilter)\n",
    "cv2.imshow(\"medianFilter2\",medianFilter2)\n",
    "cv2.imshow(\"gausFilter\",gauss)\n",
    "cv2.imshow(\"gausFilter2\",gauss2)\n",
    "cv2.imshow(\"gausFilter3\",gauss3)\n",
    "\n",
    "\n",
    "\n",
    "\n",
    "cv2.waitKey(0)\n",
    "cv2.destroyAllWindows()"
   ]
  },
  {
   "cell_type": "code",
   "execution_count": null,
   "id": "8ac24568-4d5f-460d-b2a4-f00e8d8fd3c0",
   "metadata": {},
   "outputs": [],
   "source": []
  }
 ],
 "metadata": {
  "kernelspec": {
   "display_name": "Python 3 (ipykernel)",
   "language": "python",
   "name": "python3"
  },
  "language_info": {
   "codemirror_mode": {
    "name": "ipython",
    "version": 3
   },
   "file_extension": ".py",
   "mimetype": "text/x-python",
   "name": "python",
   "nbconvert_exporter": "python",
   "pygments_lexer": "ipython3",
   "version": "3.12.4"
  }
 },
 "nbformat": 4,
 "nbformat_minor": 5
}
