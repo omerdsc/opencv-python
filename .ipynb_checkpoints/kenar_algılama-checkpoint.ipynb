{
 "cells": [
  {
   "cell_type": "code",
   "execution_count": 1,
   "id": "e498865b-7eca-478d-9ca4-cf0e17571c8b",
   "metadata": {},
   "outputs": [],
   "source": [
    "import cv2\n",
    "import numpy as np"
   ]
  },
  {
   "cell_type": "code",
   "execution_count": 17,
   "id": "cc877995-652e-4ea9-a289-0d34e2e20f1d",
   "metadata": {},
   "outputs": [],
   "source": [
    "resim=cv2.imread(\"coins.png\")\n",
    "gray=cv2.imread(\"coins.png\",0)\n",
    "blur=cv2.GaussianBlur(gray,(3,3),0)\n",
    "    \n",
    "canny=cv2.Canny(blur,75,225)\n",
    "\n",
    "cv2.imshow(\"para\",resim)\n",
    "cv2.imshow(\"gray\",gray)\n",
    "cv2.imshow(\"blur\",blur)\n",
    "cv2.imshow(\"canny\",canny)\n",
    "\n",
    "\n",
    "cv2.waitKey(0)\n",
    "cv2.destroyAllWindows()\n",
    "\n"
   ]
  },
  {
   "cell_type": "code",
   "execution_count": 11,
   "id": "7c613ff2-1242-4a0d-95ae-b61234565671",
   "metadata": {},
   "outputs": [],
   "source": [
    "import numpy as np\n",
    "import cv2\n",
    "\n",
    "resim=cv2.imread(\"coins.png\")\n",
    "gray=cv2.imread(\"coins.png\",0)\n",
    "blur=cv2.GaussianBlur(gray,(5,5),0)\n",
    "    \n",
    "def autocanny(blur,sigma=0.5):\n",
    "    median=np.median(blur)\n",
    "    lower=int(max(0,(1.0-sigma))*median) #alt eşik değer\n",
    "    upper=int(min(255,(1.0-sigma))*median) #üst eşik değer\n",
    "    canny=cv2.Canny(blur,lower,upper)\n",
    "\n",
    "    return canny\n",
    "\n",
    "wide=cv2.Canny(blur,10,220)\n",
    "tight=cv2.Canny(blur,200,230)\n",
    "\n",
    "auto=autocanny(blur)\n",
    "\n",
    "cv2.imshow(\"edges\",np.hstack([wide,tight,auto])) #resimleri yanyana alark tek bir parça halinde bastırdım\n",
    "\n",
    "\n",
    "cv2.waitKey(0)\n",
    "cv2.destroyAllWindows()\n"
   ]
  },
  {
   "cell_type": "code",
   "execution_count": null,
   "id": "c45a0a3c-3e52-4c67-9040-c80299cdf02d",
   "metadata": {},
   "outputs": [],
   "source": []
  }
 ],
 "metadata": {
  "kernelspec": {
   "display_name": "Python 3 (ipykernel)",
   "language": "python",
   "name": "python3"
  },
  "language_info": {
   "codemirror_mode": {
    "name": "ipython",
    "version": 3
   },
   "file_extension": ".py",
   "mimetype": "text/x-python",
   "name": "python",
   "nbconvert_exporter": "python",
   "pygments_lexer": "ipython3",
   "version": "3.12.4"
  }
 },
 "nbformat": 4,
 "nbformat_minor": 5
}
