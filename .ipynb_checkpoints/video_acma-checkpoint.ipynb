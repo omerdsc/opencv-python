{
 "cells": [
  {
   "cell_type": "code",
   "execution_count": 3,
   "id": "c70a68ef-ff1d-4893-8662-3b6abe7272df",
   "metadata": {},
   "outputs": [],
   "source": [
    "import cv2"
   ]
  },
  {
   "cell_type": "code",
   "execution_count": 4,
   "id": "8cd3d1c8-11d5-4f2d-b8d6-802586875635",
   "metadata": {},
   "outputs": [],
   "source": [
    "cap=cv2.VideoCapture(\"HOZAN DINO -  ROJ 2020.mp4\")"
   ]
  },
  {
   "cell_type": "code",
   "execution_count": null,
   "id": "fe05ad11-e1b7-49df-bcd0-92dbf3c19d75",
   "metadata": {},
   "outputs": [],
   "source": [
    "while cap.isOpened():\n",
    "    ret, frame=cap.read()\n",
    "\n",
    "    if ret == True:\n",
    "        cv2.imshow(\"frame\", frame)\n",
    "\n",
    "        kinp=cv2.waitKey()\n",
    "        if kinp == ord(\"q\"):\n",
    "            break\n",
    "\n",
    "    else:\n",
    "        break\n",
    "\n",
    "cap.release()\n",
    "cap.destroyAllWindows()"
   ]
  },
  {
   "cell_type": "code",
   "execution_count": null,
   "id": "b606f460-cbc3-4519-9975-74fc09e3b61c",
   "metadata": {},
   "outputs": [],
   "source": []
  }
 ],
 "metadata": {
  "kernelspec": {
   "display_name": "Python 3 (ipykernel)",
   "language": "python",
   "name": "python3"
  },
  "language_info": {
   "codemirror_mode": {
    "name": "ipython",
    "version": 3
   },
   "file_extension": ".py",
   "mimetype": "text/x-python",
   "name": "python",
   "nbconvert_exporter": "python",
   "pygments_lexer": "ipython3",
   "version": "3.12.4"
  }
 },
 "nbformat": 4,
 "nbformat_minor": 5
}
