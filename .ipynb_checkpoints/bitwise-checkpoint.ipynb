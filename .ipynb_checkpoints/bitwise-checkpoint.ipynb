{
 "cells": [
  {
   "cell_type": "code",
   "execution_count": 3,
   "id": "6c121831-ee21-41c0-9da0-640c1eb67b52",
   "metadata": {},
   "outputs": [],
   "source": [
    "import cv2\n",
    "import numpy as np"
   ]
  },
  {
   "cell_type": "code",
   "execution_count": 5,
   "id": "166bcb21-b1ce-40ae-a3f3-20cc04fc4b9a",
   "metadata": {},
   "outputs": [],
   "source": [
    "resim2=cv2.imread(\"images.png\")\n",
    "resim1=cv2.imread(\"desktop-wallpaper-black-and-gray-backgrounds-100-vector-png-psd-files-half-black-half-white.jpg\")\n",
    "resim1=resim1[0:225,0:225]\n",
    "bitwiseAnd=cv2.bitwise_and(resim1,resim2) #0 gelirse siyah 1 gelirse beyaz olacak\n",
    "#resimler üst üste gelcek ve piksel renkleri aynıysa beyaz değilse siyah\n",
    "\n",
    "bitwiseOr=cv2.bitwise_or(resim1,resim2)\n",
    "bitwisXor=cv2.bitwise_xor(resim1,resim2)\n",
    "bitwiseNot=cv2.bitwise_not(resim1,resim2)\n",
    "\n",
    "cv2.imshow(\"ilk resim\",resim1)\n",
    "cv2.imshow(\"ikinci resiim\",resim2)\n",
    "cv2.imshow(\"bitwiseande\",bitwiseAnd)\n",
    "cv2.imshow(\"bitwiseOr\",bitwiseOr)\n",
    "cv2.imshow(\"bitwiseXOr\",bitwisXor)\n",
    "cv2.imshow(\"bitwiseNot\",bitwiseNot)\n",
    "\n",
    "\n",
    "cv2.waitKey(0)\n",
    "cv2.destroyAllWindows()\n"
   ]
  },
  {
   "cell_type": "code",
   "execution_count": 11,
   "id": "c7db953c-25c6-463c-a33a-7522ec903c3f",
   "metadata": {},
   "outputs": [
    {
     "name": "stdout",
     "output_type": "stream",
     "text": [
      "(498, 850, 3)\n",
      "(225, 225, 3)\n"
     ]
    }
   ],
   "source": [
    "print(resim1.shape)\n",
    "print(resim2.shape)"
   ]
  },
  {
   "cell_type": "code",
   "execution_count": null,
   "id": "9a5ca14b-2593-497b-a592-8d5303cbcc61",
   "metadata": {},
   "outputs": [],
   "source": []
  },
  {
   "cell_type": "code",
   "execution_count": null,
   "id": "f810833a-7152-45c4-a463-b03f88022aaf",
   "metadata": {},
   "outputs": [],
   "source": []
  }
 ],
 "metadata": {
  "kernelspec": {
   "display_name": "Python 3 (ipykernel)",
   "language": "python",
   "name": "python3"
  },
  "language_info": {
   "codemirror_mode": {
    "name": "ipython",
    "version": 3
   },
   "file_extension": ".py",
   "mimetype": "text/x-python",
   "name": "python",
   "nbconvert_exporter": "python",
   "pygments_lexer": "ipython3",
   "version": "3.12.4"
  }
 },
 "nbformat": 4,
 "nbformat_minor": 5
}
