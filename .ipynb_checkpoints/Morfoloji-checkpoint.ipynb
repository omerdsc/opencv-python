{
 "cells": [
  {
   "cell_type": "code",
   "execution_count": 3,
   "id": "c43d90fe-1964-48f9-ab2d-5344488b02cb",
   "metadata": {},
   "outputs": [],
   "source": [
    "import numpy as np\n",
    "import cv2"
   ]
  },
  {
   "cell_type": "code",
   "execution_count": 7,
   "id": "4a209df8-9b1b-4eb7-89ad-209322705921",
   "metadata": {},
   "outputs": [],
   "source": [
    "resim=cv2.imread(\"halftone.png\")\n",
    "# bozuk resimleri düzltiyor siyah ve bayazlara uygulanıyor\n",
    "kernel=np.ones((5,5),np.uint8)\n",
    "erosion=cv2.erode(resim,kernel,iterations=1)#küçültme\n",
    "dilation=cv2.dilate(erosion,kernel,iterations=1) #genişletme\n",
    "opening=cv2.morphologyEx(resim,cv2.MORPH_OPEN,kernel) #erosion ve dalitionu burada birlikte kullanıyor\n",
    "                                                      #yukardaki iki işlemi tek başına yapıyor\n",
    "\n",
    "closing=cv2.morphologyEx(resim,cv2.MORPH_CLOSE,kernel) #önce dilation sonrada erosion işlemi yapar\n",
    "gradyan=cv2.morphologyEx(resim,cv2.MORPH_GRADIENT,kernel)# delation-erosion çıkarılır\n",
    "tophat=cv2.morphologyEx(resim,cv2.MORPH_TOPHAT,kernel) #orjinal resim - opening çıkarılı\n",
    "blackhat=cv2.morphologyEx(resim,cv2.MORPH_BLACKHAT,kernel) # closing-orjinal resim arasındaki farktır\n",
    "cv2.imshow(\"orjinal\",resim)\n",
    "cv2.imshow(\"erosion\",erosion)\n",
    "cv2.imshow(\"dilation\",dilation)\n",
    "\n",
    "cv2.imshow(\"opening\",opening)\n",
    "cv2.imshow(\"cloing\",closing)\n",
    "cv2.imshow(\"gradian\",gradyan)\n",
    "cv2.imshow(\"tophat\",tophat)\n",
    "cv2.imshow(\"blackhat\",blackhat)\n",
    "\n",
    "\n",
    "cv2.waitKey(0)\n",
    "cv2.destroyAllWindows()"
   ]
  }
 ],
 "metadata": {
  "kernelspec": {
   "display_name": "Python 3 (ipykernel)",
   "language": "python",
   "name": "python3"
  },
  "language_info": {
   "codemirror_mode": {
    "name": "ipython",
    "version": 3
   },
   "file_extension": ".py",
   "mimetype": "text/x-python",
   "name": "python",
   "nbconvert_exporter": "python",
   "pygments_lexer": "ipython3",
   "version": "3.12.4"
  }
 },
 "nbformat": 4,
 "nbformat_minor": 5
}
