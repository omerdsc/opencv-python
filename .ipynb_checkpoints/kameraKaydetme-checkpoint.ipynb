{
 "cells": [
  {
   "cell_type": "code",
   "execution_count": 7,
   "id": "24612bc4-9cc0-463f-a819-ff1f514b72e6",
   "metadata": {},
   "outputs": [],
   "source": [
    "import cv2"
   ]
  },
  {
   "cell_type": "code",
   "execution_count": 15,
   "id": "54c5843f-6961-4616-bb56-4c08ff785b14",
   "metadata": {},
   "outputs": [
    {
     "name": "stdout",
     "output_type": "stream",
     "text": [
      "640 480\n"
     ]
    }
   ],
   "source": [
    "camera=cv2.VideoCapture(0)\n",
    "\n",
    "width=int(camera.get(cv2.CAP_PROP_FRAME_WIDTH)) # VİDEO GENİŞLİĞİ\n",
    "height=int(camera.get(cv2.CAP_PROP_FRAME_HEIGHT)) # VİDEO UZUNLUĞU\n",
    "\n",
    "print(width,height)\n",
    "\n",
    "fourcc=cv2.VideoWriter_fourcc(*'MP4V') #VİDEO FORMATINI BELİRLEDİK\n",
    "\n",
    "writer=cv2.VideoWriter(\"kayit.mp4\",fourcc,20,(width,height))\n",
    "\n",
    "while True:\n",
    "    ret,frame=camera.read()\n",
    "    writer.write(frame)\n",
    "    cv2.imshow(\"video\",frame)\n",
    "\n",
    "    if cv2.waitKey(25) & 0xFF== ord(\"q\"):\n",
    "        break\n",
    "\n",
    "camera.release()\n",
    "writer.release()\n",
    "cv2.destroyAllWindows()"
   ]
  },
  {
   "cell_type": "code",
   "execution_count": 13,
   "id": "a2740bb3-35c4-4da6-83a8-7ad3b65b23e0",
   "metadata": {},
   "outputs": [
    {
     "ename": "AttributeError",
     "evalue": "'cv2.VideoCapture' object has no attribute 'shape'",
     "output_type": "error",
     "traceback": [
      "\u001b[1;31m---------------------------------------------------------------------------\u001b[0m",
      "\u001b[1;31mAttributeError\u001b[0m                            Traceback (most recent call last)",
      "Cell \u001b[1;32mIn[13], line 1\u001b[0m\n\u001b[1;32m----> 1\u001b[0m \u001b[38;5;28mprint\u001b[39m(camera\u001b[38;5;241m.\u001b[39mshape)\n",
      "\u001b[1;31mAttributeError\u001b[0m: 'cv2.VideoCapture' object has no attribute 'shape'"
     ]
    }
   ],
   "source": []
  },
  {
   "cell_type": "code",
   "execution_count": null,
   "id": "7b210e9a-07eb-43e2-bc9a-cdc2adcc7126",
   "metadata": {},
   "outputs": [],
   "source": []
  }
 ],
 "metadata": {
  "kernelspec": {
   "display_name": "Python 3 (ipykernel)",
   "language": "python",
   "name": "python3"
  },
  "language_info": {
   "codemirror_mode": {
    "name": "ipython",
    "version": 3
   },
   "file_extension": ".py",
   "mimetype": "text/x-python",
   "name": "python",
   "nbconvert_exporter": "python",
   "pygments_lexer": "ipython3",
   "version": "3.12.4"
  }
 },
 "nbformat": 4,
 "nbformat_minor": 5
}
