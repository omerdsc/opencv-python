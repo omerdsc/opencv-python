{
 "cells": [
  {
   "cell_type": "code",
   "execution_count": 24,
   "id": "ee9d3ccf-c7e9-4f1d-af78-254f070e8399",
   "metadata": {},
   "outputs": [
    {
     "name": "stdout",
     "output_type": "stream",
     "text": [
      "(246, 400)\n",
      "98400\n",
      "98400\n",
      "uint8\n",
      "2\n"
     ]
    }
   ],
   "source": [
    "import cv2\n",
    "import numpy as np\n",
    "\n",
    "resim=cv2.imread(\"s_build1.jpg\",0)   \n",
    "\n",
    "cv2.imshow(\"resim\",resim) \n",
    "\n",
    "cv2.waitKey(0)\n",
    "cv2.destroyAllWindows()\n",
    "\n",
    "arr=np.array(resim)\n",
    "print(arr.shape)\n",
    "print(arr.size)\n",
    "print(resim.size)\n",
    "print(arr.dtype)\n",
    "print(arr.ndim)"
   ]
  },
  {
   "cell_type": "code",
   "execution_count": null,
   "id": "3c18f549-251d-4922-ab34-9eda662f556a",
   "metadata": {},
   "outputs": [],
   "source": []
  }
 ],
 "metadata": {
  "kernelspec": {
   "display_name": "Python 3 (ipykernel)",
   "language": "python",
   "name": "python3"
  },
  "language_info": {
   "codemirror_mode": {
    "name": "ipython",
    "version": 3
   },
   "file_extension": ".py",
   "mimetype": "text/x-python",
   "name": "python",
   "nbconvert_exporter": "python",
   "pygments_lexer": "ipython3",
   "version": "3.12.4"
  }
 },
 "nbformat": 4,
 "nbformat_minor": 5
}
