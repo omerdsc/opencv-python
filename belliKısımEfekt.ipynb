{
 "cells": [
  {
   "cell_type": "code",
   "execution_count": 1,
   "id": "4f720cb0-b6b9-4117-b510-c84430391df0",
   "metadata": {},
   "outputs": [],
   "source": [
    "import cv2\n",
    "import numpy as np"
   ]
  },
  {
   "cell_type": "code",
   "execution_count": 3,
   "id": "8f194c8e-c06f-47fa-af4b-0725b9cb38df",
   "metadata": {},
   "outputs": [],
   "source": [
    "resim=cv2.imread(\"s_ev1.jpg\")\n",
    "\n",
    "resim[:,:,0]=0\n",
    "resim[:,:,1]=255\n",
    "resim[:,:,2]=0\n",
    "\n",
    "\n",
    "cv2.imshow(\"ev\",resim)\n",
    "\n",
    "cv2.waitKey(0)\n",
    "cv2.destroyAllWindows()"
   ]
  },
  {
   "cell_type": "code",
   "execution_count": 5,
   "id": "d8d5499b-04d0-4871-a197-a2a423d374b0",
   "metadata": {},
   "outputs": [],
   "source": [
    "resim=cv2.imread(\"s_ev1.jpg\")\n",
    "\n",
    "resim[30:150,60:90,0]=255\n",
    "\n",
    "cv2.imshow(\"ev\",resim)\n",
    "\n",
    "cv2.waitKey(0)\n",
    "cv2.destroyAllWindows()"
   ]
  },
  {
   "cell_type": "code",
   "execution_count": null,
   "id": "bc0ea47e-99d3-4812-b110-75e343bad1fc",
   "metadata": {},
   "outputs": [],
   "source": []
  }
 ],
 "metadata": {
  "kernelspec": {
   "display_name": "Python 3 (ipykernel)",
   "language": "python",
   "name": "python3"
  },
  "language_info": {
   "codemirror_mode": {
    "name": "ipython",
    "version": 3
   },
   "file_extension": ".py",
   "mimetype": "text/x-python",
   "name": "python",
   "nbconvert_exporter": "python",
   "pygments_lexer": "ipython3",
   "version": "3.12.4"
  }
 },
 "nbformat": 4,
 "nbformat_minor": 5
}
